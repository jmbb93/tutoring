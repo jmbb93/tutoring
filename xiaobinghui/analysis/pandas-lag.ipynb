{
 "cells": [
  {
   "cell_type": "markdown",
   "metadata": {},
   "source": [
    "参考 https://www.jianshu.com/p/6ef54e943ad0"
   ]
  },
  {
   "cell_type": "code",
   "execution_count": 3,
   "metadata": {
    "collapsed": true
   },
   "outputs": [],
   "source": [
    "import pandas as pd"
   ]
  },
  {
   "cell_type": "code",
   "execution_count": 7,
   "metadata": {},
   "outputs": [],
   "source": [
    "df = pd.read_excel(\"../refs/数据处理.xlsx\")"
   ]
  },
  {
   "cell_type": "code",
   "execution_count": 12,
   "metadata": {},
   "outputs": [
    {
     "name": "stdout",
     "output_type": "stream",
     "text": [
      "0           NaN\n",
      "1         我的-动态\n",
      "2       我的-最近使用\n",
      "3       我的-最近使用\n",
      "4       我的-最近使用\n",
      "5       我的-最近使用\n",
      "6     我的-收藏的小程序\n",
      "7     我的-收藏的小程序\n",
      "8     我的-收藏的小程序\n",
      "9     我的-收藏的小程序\n",
      "10      我的-添加收藏\n",
      "11      我的-添加收藏\n",
      "Name: 节点, dtype: object\n",
      "             user_id                       时间   链路         节点   路径\n",
      "0   2088812339361360  2019-04-24 07:47:21:901  1.0      我的-动态  1.0\n",
      "1   2088812339361360  2019-04-24 07:47:21:903  NaN    我的-最近使用  2.0\n",
      "2   2088812339361360  2019-04-24 07:47:21:904  NaN    我的-最近使用  NaN\n",
      "3   2088812339361360  2019-04-24 07:47:21:909  NaN    我的-最近使用  NaN\n",
      "4   2088812339361360  2019-04-24 07:47:21:909  NaN    我的-最近使用  NaN\n",
      "5   2088812339361360  2019-04-24 07:47:21:927  NaN  我的-收藏的小程序  3.0\n",
      "6   2088812339361360  2019-04-24 07:47:21:940  NaN  我的-收藏的小程序  NaN\n",
      "7   2088812339361360  2019-04-24 07:47:21:941  NaN  我的-收藏的小程序  NaN\n",
      "8   2088812339361360  2019-04-24 07:47:23:050  NaN  我的-收藏的小程序  NaN\n",
      "9   2088812339361360  2019-04-24 07:47:29:265  NaN    我的-添加收藏  4.0\n",
      "10  2088812339361360  2019-04-24 07:55:29:265  2.0    我的-添加收藏  1.0\n",
      "11  2088812339361360  2019-04-24 07:56:29:265  NaN    我的-添加收藏  NaN\n"
     ]
    }
   ],
   "source": [
    "df.groupby(['user_id'])['节点'].shift(1).pipe(print)\n",
    "df.pipe(print)"
   ]
  }
 ],
 "metadata": {
  "kernelspec": {
   "display_name": "Python 3",
   "language": "python",
   "name": "python3"
  },
  "language_info": {
   "codemirror_mode": {
    "name": "ipython",
    "version": 3
   },
   "file_extension": ".py",
   "mimetype": "text/x-python",
   "name": "python",
   "nbconvert_exporter": "python",
   "pygments_lexer": "ipython3",
   "version": "3.5.4"
  }
 },
 "nbformat": 4,
 "nbformat_minor": 2
}
